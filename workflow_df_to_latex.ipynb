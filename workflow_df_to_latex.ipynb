{
 "cells": [
  {
   "cell_type": "markdown",
   "metadata": {},
   "source": [
    "# Transform your samples posteriors to latex tables\n",
    "\n",
    "Here....\n",
    "\n",
    "@Author: P. Palma-Bifani"
   ]
  },
  {
   "cell_type": "code",
   "execution_count": 20,
   "metadata": {},
   "outputs": [],
   "source": [
    "import glob\n",
    "import numpy as np\n",
    "import pandas as pd\n",
    "import corner\n",
    "import pickle"
   ]
  },
  {
   "cell_type": "code",
   "execution_count": 6,
   "metadata": {},
   "outputs": [],
   "source": [
    "# test_file to check the functions and the workflow\n",
    "path_test_file = '/Users/ppalmabifani/Desktop/exoAtm/c_ForMoSA/sub_modules/dF_to_latex/'"
   ]
  },
  {
   "cell_type": "code",
   "execution_count": 108,
   "metadata": {},
   "outputs": [],
   "source": [
    "\n",
    "\n",
    "def formating_posteriors_values(latex_list_param, samples_directory, quantiles=[0.16, 0.5, 0.84], cifrassignificativas=[1,1,1], evidence=True):\n",
    "    '''\n",
    "    Desk\n",
    "    \n",
    "    Inputs:\n",
    "    latex_list_param_name (str) :names of the parameters, just for control for now...\n",
    "    samples_directory (str) :file name with path in string format\n",
    "    quantiles                   (=[0.16, 0.5, 0.84])\n",
    "    cifrassignificativas        (=[1,1,1])\n",
    "    bayesian_evidence           (=True)\n",
    "\n",
    "    Outputs:\n",
    "    latex_params_list a list of strings that can be apppend for a latex table and the bayesian evidence params if wanted\n",
    "\n",
    "    '''\n",
    "    ## Open the sample\n",
    "    with open(samples_directory, 'rb') as f1:\n",
    "        result  = pickle.load(f1)\n",
    "        samples = result.samples\n",
    "        weights = result.weights\n",
    "        \n",
    "    ## Calculate quadriles and save param+deviation as string\n",
    "    latex_params_list = []\n",
    "    # once per variable\n",
    "    for l in range(len(latex_list_param)):\n",
    "        q16, q50, q84 = corner.quantile(samples[:,l], quantiles)\n",
    "        qsub, qup     = np.abs(q50-q16), np.abs(q84-q50)\n",
    "\n",
    "        latex_value_1 = round(q50, cifrassignificativas[l])\n",
    "        latex_value_2 = round(qup, cifrassignificativas[l])\n",
    "        latex_value_3 = round(qsub, cifrassignificativas[l])\n",
    "        latex_value = '$' + str(latex_value_1) + '^{+' +  str(latex_value_2) + '}_{-' +str(latex_value_3) +'}$'\n",
    "        latex_params_list.append(latex_value)\n",
    "    \n",
    "    if evidence == True:\n",
    "            sample_logz = round(result['logz'],1)\n",
    "            sample_logzerr = round(result['logzerr'],1)\n",
    "            sample_h = round(result['h'],1)\n",
    "\n",
    "            logz_value = '{logz} ± {logzerr}'.format(logz=sample_logz, logzerr=sample_logzerr)\n",
    "            latex_params_list.append(logz_value)\n",
    "\n",
    "            h_value    = '{h}'.format(h=sample_h )\n",
    "            latex_params_list.append(h_value)\n",
    "\n",
    "    return latex_params_list\n",
    "\n",
    "\n",
    "\n",
    "def latex_pandas_table( latex_list_param, samples_directory,  evidencee=True):\n",
    "    ''' Here\n",
    "    '''\n",
    "\n",
    "    columns_latex = ['Index']\n",
    "    for i in range(len(latex_list_param)):\n",
    "        columns_latex.append( latex_list_param[i])\n",
    "    columns_latex.append('log(z)')\n",
    "    columns_latex.append('h')\n",
    "    \n",
    "    latex_table = pd.DataFrame(columns = columns_latex)\n",
    "\n",
    "\n",
    "    ## get strings\\\n",
    "    for m in range(len(samples_directory)):\n",
    "\n",
    "        row_model = str(m)\n",
    "\n",
    "        latex_posteriors_asym   = formating_posteriors_values(latex_list_param, samples_directory[m], cifrassignificativas=[1,2,2,2], evidence=evidencee)\n",
    "        \n",
    "        latex_row = [row_model] + latex_posteriors_asym\n",
    "        latex_row_good = np.array(latex_row)\\\n",
    "\n",
    "        # Append row to the DataFrame using append()\n",
    "        latex_table2 = latex_table.append(pd.Series(latex_row_good, index=latex_table.columns), ignore_index=True)\\\n",
    "\n",
    "    return latex_table2, columns_latex\n",
    "        \n",
    "\n",
    "\n",
    "\n"
   ]
  },
  {
   "cell_type": "code",
   "execution_count": 109,
   "metadata": {},
   "outputs": [],
   "source": [
    "\n",
    "## INPUTS & format definitions\n",
    "testdata_samples_direct = np.array([path_test_file + 'testdata.pic'] )         # give list with all the .pic files of all wanted models\n",
    "bayesian_evidence       = True\n",
    "\n",
    "# For ForMoSA the list of parameters availables is\n",
    "# 'T_{eff}','logg','[M/H]','C/O', 'R_{jup}', 'RV', 'A_v', 'vsin(i)', '\\epsilon', 'BB_{rad}', 'BB_{Teff}'\n",
    "latex_list_param_name   = ['T_{eff}','logg','[M/H]','C/O']           # must be in same order as the sample file\n",
    "\n",
    "\n",
    "## get tables\n",
    "# For this case only header and 1 row\n",
    "latex_pd_dataframe, columns_latex   = latex_pandas_table(latex_list_param_name, testdata_samples_direct,evidencee=bayesian_evidence) \n",
    "# return pandas table to keep editong columns\n",
    "\n",
    "\n",
    "# here to save in .txt directly to copy to latex\n",
    "latex_pd_dataframe.to_csv(path_test_file+'testdata.txt', sep='&', line_terminator='\\\\\\ \\n', index=False, columns=columns_latex)\n"
   ]
  },
  {
   "cell_type": "code",
   "execution_count": 110,
   "metadata": {},
   "outputs": [
    {
     "data": {
      "text/html": [
       "<div>\n",
       "<style scoped>\n",
       "    .dataframe tbody tr th:only-of-type {\n",
       "        vertical-align: middle;\n",
       "    }\n",
       "\n",
       "    .dataframe tbody tr th {\n",
       "        vertical-align: top;\n",
       "    }\n",
       "\n",
       "    .dataframe thead th {\n",
       "        text-align: right;\n",
       "    }\n",
       "</style>\n",
       "<table border=\"1\" class=\"dataframe\">\n",
       "  <thead>\n",
       "    <tr style=\"text-align: right;\">\n",
       "      <th></th>\n",
       "      <th>Index</th>\n",
       "      <th>T_{eff}</th>\n",
       "      <th>logg</th>\n",
       "      <th>[M/H]</th>\n",
       "      <th>C/O</th>\n",
       "      <th>log(z)</th>\n",
       "      <th>h</th>\n",
       "    </tr>\n",
       "  </thead>\n",
       "  <tbody>\n",
       "    <tr>\n",
       "      <th>0</th>\n",
       "      <td>0</td>\n",
       "      <td>$1551.8^{+228.5}_{-161.8}$</td>\n",
       "      <td>$3.24^{+0.67}_{-0.2}$</td>\n",
       "      <td>$0.49^{+0.27}_{-0.23}$</td>\n",
       "      <td>$0.72^{+0.07}_{-0.25}$</td>\n",
       "      <td>-1148.8 ± 0.4</td>\n",
       "      <td>17.2</td>\n",
       "    </tr>\n",
       "  </tbody>\n",
       "</table>\n",
       "</div>"
      ],
      "text/plain": [
       "  Index                     T_{eff}                   logg  \\\n",
       "0     0  $1551.8^{+228.5}_{-161.8}$  $3.24^{+0.67}_{-0.2}$   \n",
       "\n",
       "                    [M/H]                     C/O         log(z)     h  \n",
       "0  $0.49^{+0.27}_{-0.23}$  $0.72^{+0.07}_{-0.25}$  -1148.8 ± 0.4  17.2  "
      ]
     },
     "execution_count": 110,
     "metadata": {},
     "output_type": "execute_result"
    }
   ],
   "source": [
    "latex_pd_dataframe"
   ]
  },
  {
   "cell_type": "code",
   "execution_count": null,
   "metadata": {},
   "outputs": [],
   "source": []
  }
 ],
 "metadata": {
  "kernelspec": {
   "display_name": "Python 3.7.13 ('exo_formosa')",
   "language": "python",
   "name": "python3"
  },
  "language_info": {
   "codemirror_mode": {
    "name": "ipython",
    "version": 3
   },
   "file_extension": ".py",
   "mimetype": "text/x-python",
   "name": "python",
   "nbconvert_exporter": "python",
   "pygments_lexer": "ipython3",
   "version": "3.7.13"
  },
  "orig_nbformat": 4,
  "vscode": {
   "interpreter": {
    "hash": "9aec1e17db1a1c759b18bf85d14c335cdcfb4080f740d60b236f2747bc3cb68f"
   }
  }
 },
 "nbformat": 4,
 "nbformat_minor": 2
}
