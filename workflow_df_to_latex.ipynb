{
 "cells": [
  {
   "cell_type": "markdown",
   "metadata": {},
   "source": [
    "# Transform your samples posteriors to latex tables\n",
    "\n",
    "\n",
    "@Author: P. Palma-Bifani"
   ]
  },
  {
   "cell_type": "code",
   "execution_count": 1,
   "metadata": {},
   "outputs": [],
   "source": [
    "import glob\n",
    "import numpy as np\n",
    "import pandas as pd\n",
    "import corner\n",
    "import pickle\n",
    "\n",
    "# my functions\n",
    "from functions_df_to_latex import *"
   ]
  },
  {
   "cell_type": "code",
   "execution_count": 2,
   "metadata": {},
   "outputs": [],
   "source": [
    "# test_file to check the functions and the workflow\n",
    "path_test_file = '/Users/ppalmabifani/Desktop/exoAtm/c_ForMoSA/sub_modules/dF_to_latex/'"
   ]
  },
  {
   "cell_type": "code",
   "execution_count": 3,
   "metadata": {},
   "outputs": [],
   "source": [
    "\n",
    "## INPUTS & format definitions\n",
    "testdata_samples_direct = np.array([path_test_file + 'testdata.pic'] )         # give list with all the .pic files of all wanted models\n",
    "bayesian_evidence       = True\n",
    "\n",
    "# For ForMoSA the list of parameters availables is\n",
    "# 'T_{eff}','logg','[M/H]','C/O', 'R_{jup}', 'RV', 'A_v', 'vsin(i)', '\\epsilon', 'BB_{rad}', 'BB_{Teff}'\n",
    "latex_list_param_name   = ['T_{eff}','logg','[M/H]','C/O']           # must be in same order as the sample file\n",
    "\n",
    "## get tables\n",
    "# For this case only header and 1 row\n",
    "# Returns pandas dataframe and column names\n",
    "latex_pd_dataframe, columns_latex   = latex_pandas_table(latex_list_param_name, testdata_samples_direct,evidencee=bayesian_evidence)\n",
    "\n",
    "\n",
    "# SAVE PANDAS DATAFRAME DIRECTLY TO LATEX WITH THIS CODE-LINE\n",
    "latex_pd_dataframe.to_csv(path_test_file+'testdata.txt', sep='&', line_terminator='\\\\\\ \\n', index=False, columns=columns_latex)\n",
    "\n"
   ]
  },
  {
   "cell_type": "code",
   "execution_count": 4,
   "metadata": {},
   "outputs": [
    {
     "data": {
      "text/html": [
       "<div>\n",
       "<style scoped>\n",
       "    .dataframe tbody tr th:only-of-type {\n",
       "        vertical-align: middle;\n",
       "    }\n",
       "\n",
       "    .dataframe tbody tr th {\n",
       "        vertical-align: top;\n",
       "    }\n",
       "\n",
       "    .dataframe thead th {\n",
       "        text-align: right;\n",
       "    }\n",
       "</style>\n",
       "<table border=\"1\" class=\"dataframe\">\n",
       "  <thead>\n",
       "    <tr style=\"text-align: right;\">\n",
       "      <th></th>\n",
       "      <th>Index</th>\n",
       "      <th>T_{eff}</th>\n",
       "      <th>logg</th>\n",
       "      <th>[M/H]</th>\n",
       "      <th>C/O</th>\n",
       "      <th>log(z)</th>\n",
       "      <th>h</th>\n",
       "    </tr>\n",
       "  </thead>\n",
       "  <tbody>\n",
       "    <tr>\n",
       "      <th>0</th>\n",
       "      <td>0</td>\n",
       "      <td>$1551.8^{+228.5}_{-161.8}$</td>\n",
       "      <td>$3.24^{+0.67}_{-0.2}$</td>\n",
       "      <td>$0.49^{+0.27}_{-0.23}$</td>\n",
       "      <td>$0.72^{+0.07}_{-0.25}$</td>\n",
       "      <td>-1148.8 ± 0.4</td>\n",
       "      <td>17.2</td>\n",
       "    </tr>\n",
       "  </tbody>\n",
       "</table>\n",
       "</div>"
      ],
      "text/plain": [
       "  Index                     T_{eff}                   logg  \\\n",
       "0     0  $1551.8^{+228.5}_{-161.8}$  $3.24^{+0.67}_{-0.2}$   \n",
       "\n",
       "                    [M/H]                     C/O         log(z)     h  \n",
       "0  $0.49^{+0.27}_{-0.23}$  $0.72^{+0.07}_{-0.25}$  -1148.8 ± 0.4  17.2  "
      ]
     },
     "execution_count": 4,
     "metadata": {},
     "output_type": "execute_result"
    }
   ],
   "source": [
    "latex_pd_dataframe"
   ]
  },
  {
   "cell_type": "code",
   "execution_count": null,
   "metadata": {},
   "outputs": [],
   "source": []
  }
 ],
 "metadata": {
  "kernelspec": {
   "display_name": "Python 3.7.13 ('exo_formosa')",
   "language": "python",
   "name": "python3"
  },
  "language_info": {
   "codemirror_mode": {
    "name": "ipython",
    "version": 3
   },
   "file_extension": ".py",
   "mimetype": "text/x-python",
   "name": "python",
   "nbconvert_exporter": "python",
   "pygments_lexer": "ipython3",
   "version": "3.7.13"
  },
  "orig_nbformat": 4,
  "vscode": {
   "interpreter": {
    "hash": "9aec1e17db1a1c759b18bf85d14c335cdcfb4080f740d60b236f2747bc3cb68f"
   }
  }
 },
 "nbformat": 4,
 "nbformat_minor": 2
}
