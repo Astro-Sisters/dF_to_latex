{
 "cells": [
  {
   "cell_type": "markdown",
   "metadata": {},
   "source": [
    "# Transform your samples posteriors to latex tables\n",
    "\n",
    "Here....\n",
    "\n",
    "@Author: P. Palma-Bifani"
   ]
  },
  {
   "cell_type": "code",
   "execution_count": 2,
   "metadata": {},
   "outputs": [],
   "source": [
    "import glob\n",
    "import numpy as np\n",
    "import corner\n",
    "import pickle"
   ]
  },
  {
   "cell_type": "code",
   "execution_count": null,
   "metadata": {},
   "outputs": [],
   "source": [
    "# test_file to check the functions and the workflow\n",
    "\n",
    "path_test_file"
   ]
  },
  {
   "cell_type": "code",
   "execution_count": 4,
   "metadata": {},
   "outputs": [
    {
     "ename": "SyntaxError",
     "evalue": "invalid syntax (3981753538.py, line 29)",
     "output_type": "error",
     "traceback": [
      "\u001b[0;36m  File \u001b[0;32m\"/var/folders/j1/_w3k60_x5sngdtvl8smh_p180000gn/T/ipykernel_67425/3981753538.py\"\u001b[0;36m, line \u001b[0;32m29\u001b[0m\n\u001b[0;31m    latex_param_value = '$' + str(round(q50, cifrassignificativas[l])) + '^{' + str(round{qup, cifrassignificativas[l]}) + '}_{-' + str(round{qsub, cifrassignificativas[l]})+'}$'\u001b[0m\n\u001b[0m                                                                                         ^\u001b[0m\n\u001b[0;31mSyntaxError\u001b[0m\u001b[0;31m:\u001b[0m invalid syntax\n"
     ]
    }
   ],
   "source": [
    "\n",
    "\n",
    "def formating_posteriors_values(latex_list_param_name, samples_directory, quantiles=[0.16, 0.5, 0.84], cifrassignificativas=[1,1,1], bayesian_evidence=True):\n",
    "    '''\n",
    "    Desk\n",
    "    \n",
    "    Inputs:\n",
    "    latex_list_param_name (str) :names of the parameters, just for control for now...\n",
    "    samples_directory (str) :file name with path in string format\n",
    "    quantiles                   (=[0.16, 0.5, 0.84])\n",
    "    cifrassignificativas        (=[1,1,1])\n",
    "    bayesian_evidence           (=True)\n",
    "\n",
    "    Outputs:\n",
    "    latex_params_list a list of strings that can be apppend for a latex table and the bayesian evidence params if wanted\n",
    "\n",
    "    '''\n",
    "    ## Open the sample\n",
    "    with open(samples_directory, 'rb') as f1:\n",
    "        result  = pickle.load(f1)\n",
    "        samples = result.samples\n",
    "        weights = result.weights\n",
    "        \n",
    "    ## Calculate quadriles and save param+deviation as string\n",
    "    latex_params_list = []\n",
    "    # once per variable\n",
    "    for l in range(len(latex_list_param_name)):\n",
    "        q16, q50, q84 = corner.quantile(samples[:,l], quantiles)\n",
    "        qsub, qup     = np.abs(q50-q16), np.abs(q84-q50)\n",
    "\n",
    "        latex_param_value = '$' + str(round(q50, cifrassignificativas[l])) + '^{' + str(round{qup, cifrassignificativas[l]}) + '}_{-' + str(round{qsub, cifrassignificativas[l]})+'}$'\n",
    "        latex_params_list.append(latex_param_value)\n",
    "    \n",
    "    if bayesian_evidence == True:\n",
    "            logz_value = '{logz:.2f} \\pm {logzerr:.2f}'.format(logz=result['logz'], logzerr=result['logzerr'])\n",
    "            latex_params_list.append(logz_value)\n",
    "\n",
    "            h_value    = '{h:.2f}'.format(h=result['h'])\n",
    "            latex_params_list.append(h_value)\n",
    "\n",
    "    return latex_params_list\n",
    "\n",
    "\n",
    "\n",
    "    def append_values( latex_list_param_name, latex_params_list):\n",
    "        index_value_\n",
    "\n",
    "\n"
   ]
  },
  {
   "cell_type": "code",
   "execution_count": null,
   "metadata": {},
   "outputs": [],
   "source": [
    "\n",
    "# inputs & format definitions\n",
    "\n",
    "testdata_samples_direct = 'path'\n",
    "\n",
    "\n",
    "# For ForMoSA the list of parameters availables is\n",
    "# 'T_{eff}','logg','[M/H]','C/O', 'R_{jup}', 'RV', 'A_v', 'vsin(i)', '\\epsilon', 'BB_{rad}', 'BB_{Teff}'\n",
    "latex_list_param_name=['T_{eff}','logg','[M/H]','C/O'] # must be in same order as the sample file\n",
    "\n",
    "\n",
    "latex_posteriors_asym = formating_posteriors_values(latex_list_param_name, samples=testdata_samples_direct, cifrassignificativas=[1,2,2,2])\n",
    "\n",
    "\n"
   ]
  }
 ],
 "metadata": {
  "kernelspec": {
   "display_name": "Python 3.7.13 ('exo_formosa')",
   "language": "python",
   "name": "python3"
  },
  "language_info": {
   "codemirror_mode": {
    "name": "ipython",
    "version": 3
   },
   "file_extension": ".py",
   "mimetype": "text/x-python",
   "name": "python",
   "nbconvert_exporter": "python",
   "pygments_lexer": "ipython3",
   "version": "3.7.13"
  },
  "orig_nbformat": 4,
  "vscode": {
   "interpreter": {
    "hash": "9aec1e17db1a1c759b18bf85d14c335cdcfb4080f740d60b236f2747bc3cb68f"
   }
  }
 },
 "nbformat": 4,
 "nbformat_minor": 2
}
